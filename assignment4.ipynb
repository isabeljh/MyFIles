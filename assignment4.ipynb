{
 "cells": [
  {
   "cell_type": "markdown",
   "metadata": {
    "deletable": false,
    "editable": false,
    "etc_identifier": "653a3605-5bda-4e1f-beef-04a0173d3f41",
    "nbgrader": {
     "cell_type": "markdown",
     "checksum": "48770f8b5f5d3062d3badd51fcafc401",
     "grade": false,
     "grade_id": "cell-a6c4f74309fc2379",
     "locked": true,
     "schema_version": 3,
     "solution": false
    }
   },
   "source": [
    "# Assignment 4\n",
    "## Description\n",
    "In this assignment you must read in a file of metropolitan regions and associated sports teams from [assets/wikipedia_data.html](assets/wikipedia_data.html) and answer some questions about each metropolitan region. Each of these regions may have one or more teams from the \"Big 4\": NFL (football, in [assets/nfl.csv](assets/nfl.csv)), MLB (baseball, in [assets/mlb.csv](assets/mlb.csv)), NBA (basketball, in [assets/nba.csv](assets/nba.csv) or NHL (hockey, in [assets/nhl.csv](assets/nhl.csv)). Please keep in mind that all questions are from the perspective of the metropolitan region, and that this file is the \"source of authority\" for the location of a given sports team. Thus teams which are commonly known by a different area (e.g. \"Oakland Raiders\") need to be mapped into the metropolitan region given (e.g. San Francisco Bay Area). This will require some human data understanding outside of the data you've been given (e.g. you will have to hand-code some names, and might need to google to find out where teams are)!\n",
    "\n",
    "For each sport I would like you to answer the question: **what is the win/loss ratio's correlation with the population of the city it is in?** Win/Loss ratio refers to the number of wins over the number of wins plus the number of losses. Remember that to calculate the correlation with [`pearsonr`](https://docs.scipy.org/doc/scipy/reference/generated/scipy.stats.pearsonr.html), so you are going to send in two ordered lists of values, the populations from the wikipedia_data.html file and the win/loss ratio for a given sport in the same order. Average the win/loss ratios for those cities which have multiple teams of a single sport. Each sport is worth an equal amount in this assignment (20%\\*4=80%) of the grade for this assignment. You should only use data **from year 2018** for your analysis -- this is important!\n",
    "\n",
    "## Notes\n",
    "\n",
    "1. Do not include data about the MLS or CFL in any of the work you are doing, we're only interested in the Big 4 in this assignment.\n",
    "2. I highly suggest that you first tackle the four correlation questions in order, as they are all similar and worth the majority of grades for this assignment. This is by design!\n",
    "3. It's fair game to talk with peers about high level strategy as well as the relationship between metropolitan areas and sports teams. However, do not post code solving aspects of the assignment (including such as dictionaries mapping areas to teams, or regexes which will clean up names).\n",
    "4. There may be more teams than the assert statements test, remember to collapse multiple teams in one city into a single value!"
   ]
  },
  {
   "cell_type": "markdown",
   "metadata": {
    "deletable": false,
    "editable": false,
    "nbgrader": {
     "cell_type": "markdown",
     "checksum": "369ff9ecf0ee04640574205cbc697f94",
     "grade": false,
     "grade_id": "cell-712b2b5da63d4505",
     "locked": true,
     "schema_version": 3,
     "solution": false
    }
   },
   "source": [
    "## Question 1\n",
    "For this question, calculate the win/loss ratio's correlation with the population of the city it is in for the **NHL** using **2018** data."
   ]
  },
  {
   "cell_type": "code",
   "execution_count": 1,
   "metadata": {},
   "outputs": [],
   "source": [
    "%%capture\n",
    "#RUN FIRST, installs a missing library\n",
    "import sys\n",
    "!{sys.executable} -m pip install lxml==4.4.1"
   ]
  },
  {
   "cell_type": "code",
   "execution_count": 29,
   "metadata": {
    "deletable": false,
    "nbgrader": {
     "cell_type": "code",
     "checksum": "1cac4803b02502929f5b1612d48db2b5",
     "grade": false,
     "grade_id": "cell-69b16e4386e58030",
     "locked": false,
     "schema_version": 3,
     "solution": true
    }
   },
   "outputs": [
    {
     "name": "stdout",
     "output_type": "stream",
     "text": [
      "1      Lightning\n",
      "2         Bruins\n",
      "3          Leafs\n",
      "4       Panthers\n",
      "5          Wings\n",
      "6      Canadiens\n",
      "7       Senators\n",
      "8         Sabres\n",
      "10      Capitals\n",
      "11      Penguins\n",
      "12        Flyers\n",
      "13       Jackets\n",
      "14        Devils\n",
      "15    Hurricanes\n",
      "16     Islanders\n",
      "17       Rangers\n",
      "19     Predators\n",
      "20          Jets\n",
      "21          Wild\n",
      "22     Avalanche\n",
      "23         Blues\n",
      "24         Stars\n",
      "25    Blackhawks\n",
      "27       Knights\n",
      "28         Ducks\n",
      "29        Sharks\n",
      "30         Kings\n",
      "31        Flames\n",
      "32        Oilers\n",
      "33       Canucks\n",
      "34       Coyotes\n",
      "Name: Area, dtype: object\n",
      "Boston                     4794447\n",
      "Buffalo                    1132804\n",
      "Calgary                    1392609\n",
      "Chicago                    9512999\n",
      "Columbus                   2041520\n",
      "Dallas–Fort Worth          7233323\n",
      "Denver                     2853077\n",
      "Detroit                    4297617\n",
      "Edmonton                   1321426\n",
      "Las Vegas                  2155664\n",
      "Los Angeles               13310447\n",
      "Miami–Fort Lauderdale      6066387\n",
      "Minneapolis–Saint Paul     3551036\n",
      "Montreal                   4098927\n",
      "Nashville                  1865298\n",
      "New York City             20153634\n",
      "Ottawa                     1323783\n",
      "Philadelphia               6070500\n",
      "Phoenix                    4661537\n",
      "Pittsburgh                 2342299\n",
      "Raleigh                    1302946\n",
      "San Francisco Bay Area     6657982\n",
      "St. Louis                  2807002\n",
      "Tampa Bay Area             3032171\n",
      "Toronto                    5928040\n",
      "Vancouver                  2463431\n",
      "Washington, D.C.           6131977\n",
      "Winnipeg                    778489\n",
      "Name: Population, dtype: int64\n"
     ]
    },
    {
     "data": {
      "text/plain": [
       "0.012308996455744249"
      ]
     },
     "execution_count": 29,
     "metadata": {},
     "output_type": "execute_result"
    }
   ],
   "source": [
    "import pandas as pd\n",
    "import numpy as np\n",
    "import scipy.stats as stats\n",
    "import re\n",
    "\n",
    "nhl_df=pd.read_csv(\"assets/nhl.csv\")\n",
    "cities=pd.read_html(\"assets/wikipedia_data.html\")[1]\n",
    "cities=cities.iloc[:-1,[0,3,5,6,7,8]]\n",
    "\n",
    "\n",
    "def get_area(team):\n",
    "        for each in list(nhl_cities.index.values):\n",
    "            if team in each:\n",
    "                return nhl_cities.at[each, 'Metropolitan area']\n",
    "population = cities[['Metropolitan area', 'Population (2016 est.)[8]']]\n",
    "population['Metropolitan area'] = population['Metropolitan area'].str.strip()\n",
    "population.rename(columns={'Population (2016 est.)[8]':'Population'},inplace=True)\n",
    "population = population.set_index('Metropolitan area')\n",
    "cities['NHL'].replace(r'(.*)\\[.*\\].*|[-—]',r'\\1',regex=True, inplace=True)\n",
    "cities['NHL'].replace('', np.nan, inplace=True)\n",
    "cities.dropna(inplace=True)\n",
    "nhl_cities = cities[['Metropolitan area', 'NHL']].set_index('NHL')\n",
    "nhl_df = nhl_df[nhl_df['year'] == 2018].drop([0, 9, 18, 26], axis=0).drop(['League','year','RPt%','ROW','PTS%','PTS','GP','OL','GF','GA','SRS','SOS'],axis=1)\n",
    "nhl_df['team'].replace(r'(.*)[\\*].*',r\"\\1\".strip(),regex=True, inplace=True)\n",
    "nhl_df['Area'] = nhl_df['team'].str.split(\" \").str[-1:]\n",
    "print(nhl_df['Area'].str[0])\n",
    "nhl_df[\"Area\"] = nhl_df[\"Area\"].str[0]\n",
    "nhl_df['Area'] = nhl_df['Area'].apply(lambda x: get_area(x))\n",
    "nhl_df[['W','L']] = nhl_df[['W','L']].apply(pd.to_numeric, axis=1)\n",
    "nhl_df = nhl_df.groupby('Area').sum()\n",
    "nhl_df.eval(\"Ratio =W / (W + L)\", inplace=True)\n",
    "nhl_df.drop(['W','L'], axis=1,inplace=True)\n",
    "out_df = pd.merge(nhl_df, population, how=\"inner\", left_index=True, right_index=True)\n",
    "out_df['Population']=pd.to_numeric(out_df['Population'])\n",
    "\n",
    "\n",
    "\n",
    "\n",
    "\n",
    "def nhl_correlation(): \n",
    "    # YOUR CODE HERE\n",
    "    \n",
    "\n",
    "    population_by_region = out_df['Population'] # pass in metropolitan area population from cities\n",
    "    win_loss_by_region = out_df['Ratio']  # pass in win/loss ratio from nhl_df in the same order as cities[\"Metropolitan area\"]\n",
    "\n",
    "    assert len(population_by_region) == len(win_loss_by_region), \"Q1: Your lists must be the same length\"\n",
    "    assert len(population_by_region) == 28, \"Q1: There should be 28 teams being analysed for NHL\"\n",
    "    \n",
    "    corre = stats.pearsonr(population_by_region, win_loss_by_region)\n",
    "    return(corre[0])\n",
    "    raise NotImplementedError()\n",
    "nhl_correlation()"
   ]
  },
  {
   "cell_type": "code",
   "execution_count": null,
   "metadata": {
    "deletable": false,
    "editable": false,
    "nbgrader": {
     "cell_type": "code",
     "checksum": "52a581df513c71153e105b93764cda4b",
     "grade": true,
     "grade_id": "cell-ebe0b2dfe1067e63",
     "locked": true,
     "points": 20,
     "schema_version": 3,
     "solution": false
    }
   },
   "outputs": [],
   "source": []
  },
  {
   "cell_type": "markdown",
   "metadata": {
    "deletable": false,
    "editable": false,
    "nbgrader": {
     "cell_type": "markdown",
     "checksum": "988912cae4968d81473f46d783e79c16",
     "grade": false,
     "grade_id": "cell-cb964e690298b71d",
     "locked": true,
     "schema_version": 3,
     "solution": false
    }
   },
   "source": [
    "## Question 2\n",
    "For this question, calculate the win/loss ratio's correlation with the population of the city it is in for the **NBA** using **2018** data."
   ]
  },
  {
   "cell_type": "code",
   "execution_count": 33,
   "metadata": {
    "deletable": false,
    "nbgrader": {
     "cell_type": "code",
     "checksum": "9394222aafc8ccab0a228098ba0d6010",
     "grade": false,
     "grade_id": "cell-5a5f21279e3d3572",
     "locked": false,
     "schema_version": 3,
     "solution": true
    }
   },
   "outputs": [
    {
     "name": "stdout",
     "output_type": "stream",
     "text": [
      "                      Metropolitan area\n",
      "NBA                                    \n",
      "Knicks Nets               New York City\n",
      "Lakers Clippers             Los Angeles\n",
      "Warriors         San Francisco Bay Area\n",
      "Bulls                           Chicago\n",
      "Mavericks             Dallas–Fort Worth\n",
      "Wizards                Washington, D.C.\n",
      "76ers                      Philadelphia\n",
      "Celtics                          Boston\n",
      "Timberwolves     Minneapolis–Saint Paul\n",
      "Nuggets                          Denver\n",
      "Heat              Miami–Fort Lauderdale\n",
      "Suns                            Phoenix\n",
      "Pistons                         Detroit\n",
      "Raptors                         Toronto\n",
      "Rockets                         Houston\n",
      "Hawks                           Atlanta\n",
      "Cavaliers                     Cleveland\n",
      "Hornets                       Charlotte\n",
      "Pacers                     Indianapolis\n",
      "Bucks                         Milwaukee\n",
      "Pelicans                    New Orleans\n",
      "Magic                           Orlando\n",
      "Trail Blazers                  Portland\n",
      "Jazz                     Salt Lake City\n",
      "Spurs                       San Antonio\n",
      "Kings                        Sacramento\n",
      "Thunder                   Oklahoma City\n",
      "Grizzlies                       Memphis\n"
     ]
    },
    {
     "data": {
      "text/plain": [
       "-0.17657160252844614"
      ]
     },
     "execution_count": 63,
     "metadata": {},
     "output_type": "execute_result"
    }
   ],
   "source": [
    "import pandas as pd\n",
    "import numpy as np\n",
    "import scipy.stats as stats\n",
    "import re\n",
    "\n",
    "nba_df=pd.read_csv(\"assets/nba.csv\")\n",
    "cities=pd.read_html(\"assets/wikipedia_data.html\")[1]\n",
    "cities=cities.iloc[:-1,[0,3,5,6,7,8]]\n",
    "\n",
    "def get_area(team):\n",
    "        for each in list(nba_cities.index.values):\n",
    "            if team in each:\n",
    "                return nba_cities.at[each, 'Metropolitan area']\n",
    "\n",
    "population = cities[['Metropolitan area', 'Population (2016 est.)[8]']]\n",
    "population['Metropolitan area'] = population['Metropolitan area'].str.strip()\n",
    "population.rename(columns={'Population (2016 est.)[8]':'Population'},inplace=True)\n",
    "population = population.set_index('Metropolitan area')\n",
    "\n",
    "cities['NBA'].replace(r'(.*)\\[.*\\].*|[-—]',r'\\1',regex=True, inplace=True)\n",
    "cities['NBA'].replace('—', np.nan, inplace=True)\n",
    "cities['NBA']=cities['NBA'].str.strip('—').str.strip(' ')\n",
    "cities['NBA'].replace('', np.nan, inplace=True)\n",
    "cities.dropna(inplace=True)       \n",
    "nba_cities = cities[['Metropolitan area', 'NBA']].set_index('NBA')\n",
    "\n",
    "nba_df=nba_df[nba_df['year']==2018].drop(['W/L%','GB','PS/G','PA/G','SRS', 'League','year'],axis=1)\n",
    "nba_df['team'].replace(r'(.*)[\\*]|[\\(].*',r\"\\1\".strip(),regex=True, inplace=True)\n",
    "nba_df[['team','W','L']]=nba_df[['team','W','L']].apply(lambda x: x.str.strip())\n",
    "nba_df['Area']=nba_df['team'].str.split(\" \").str[-1:]\n",
    "nba_df[\"Area\"]= nba_df[\"Area\"].str[0]\n",
    "nba_df['Area'] = nba_df['Area'].apply(lambda x: get_area(x))\n",
    "\n",
    "nba_df[['W','L']] = nba_df[['W','L']].apply(pd.to_numeric, axis=1)\n",
    "nba_df=nba_df.groupby('Area').sum()\n",
    "\n",
    "nba_df.eval(\"Ratio =W / (W + L)\", inplace=True)\n",
    "nba_df.drop(['W','L'], axis=1,inplace=True)\n",
    "out_df = pd.merge(nba_df, population, how=\"inner\", left_index=True, right_index=True)\n",
    "\n",
    "out_df['Population']=pd.to_numeric(out_df['Population'])\n",
    "\n",
    "\n",
    "def nba_correlation():\n",
    "    # YOUR CODE HERE\n",
    "    \n",
    "    population_by_region = out_df['Population'] # pass in metropolitan area population from cities\n",
    "    win_loss_by_region = out_df['Ratio'] # pass in win/loss ratio from nba_df in the same order as cities[\"Metropolitan area\"]\n",
    "    assert len(population_by_region) == len(win_loss_by_region), \"Q2: Your lists must be the same length\"\n",
    "    assert len(population_by_region) == 28, \"Q2: There should be 28 teams being analysed for NBA\"\n",
    "    corre = stats.pearsonr(population_by_region, win_loss_by_region)\n",
    "    return(corre[0])\n",
    "    raise NotImplementedError()\n",
    "nba_correlation()"
   ]
  },
  {
   "cell_type": "code",
   "execution_count": null,
   "metadata": {
    "deletable": false,
    "editable": false,
    "nbgrader": {
     "cell_type": "code",
     "checksum": "bbdeb8eb22f525a34c10dc8798324e42",
     "grade": true,
     "grade_id": "cell-e573b2b4a282b470",
     "locked": true,
     "points": 20,
     "schema_version": 3,
     "solution": false
    }
   },
   "outputs": [],
   "source": []
  },
  {
   "cell_type": "markdown",
   "metadata": {
    "deletable": false,
    "editable": false,
    "nbgrader": {
     "cell_type": "markdown",
     "checksum": "1a1a5809f675ca033086422007cd73bd",
     "grade": false,
     "grade_id": "cell-96e15e4335df78f4",
     "locked": true,
     "schema_version": 3,
     "solution": false
    },
    "tags": []
   },
   "source": [
    "## Question 3\n",
    "For this question, calculate the win/loss ratio's correlation with the population of the city it is in for the **MLB** using **2018** data."
   ]
  },
  {
   "cell_type": "code",
   "execution_count": 75,
   "metadata": {
    "deletable": false,
    "nbgrader": {
     "cell_type": "code",
     "checksum": "27e8c0da6c9fa0dffc10488314335b6c",
     "grade": false,
     "grade_id": "cell-33b00fc3f3467b0c",
     "locked": false,
     "schema_version": 3,
     "solution": true
    }
   },
   "outputs": [
    {
     "data": {
      "text/plain": [
       "0.1505230448710485"
      ]
     },
     "execution_count": 75,
     "metadata": {},
     "output_type": "execute_result"
    }
   ],
   "source": [
    "import pandas as pd\n",
    "import numpy as np\n",
    "import scipy.stats as stats\n",
    "import re\n",
    "\n",
    "mlb_df=pd.read_csv(\"assets/mlb.csv\")\n",
    "cities=pd.read_html(\"assets/wikipedia_data.html\")[1]\n",
    "cities=cities.iloc[:-1,[0,3,5,6,7,8]]\n",
    "\n",
    "#print(mlb_cities)\n",
    "def get_area(team):\n",
    "        for each in list(mlb_cities.index.values):\n",
    "            if team in each:\n",
    "                return mlb_cities.at[each, 'Metropolitan area']\n",
    "\n",
    "population = cities[['Metropolitan area', 'Population (2016 est.)[8]']]\n",
    "population['Metropolitan area'] = population['Metropolitan area'].str.strip()\n",
    "population.rename(columns={'Population (2016 est.)[8]':'Population'},inplace=True)\n",
    "population = population.set_index('Metropolitan area')\n",
    "###mlb_cities = cities[['Metropolitan area', 'MLB']].set_index('MLB')\n",
    "cities['MLB'].replace(r'(.*)\\[.*\\].*|[-—]',r'\\1',regex=True, inplace=True)\n",
    "cities['MLB'].replace('—', np.nan, inplace=True)\n",
    "cities['MLB']=cities['MLB'].str.strip('—').str.strip(' ')\n",
    "cities['MLB'].replace('', np.nan, inplace=True)\n",
    "#cities.to_excel('asdsad.xlsx')\n",
    "cities.dropna(inplace=True)\n",
    "\n",
    "###\n",
    "mlb_cities = cities[['Metropolitan area', 'MLB']].set_index('MLB')\n",
    "#print(mlb_cities)\n",
    "mlb_df=mlb_df[mlb_df['year']==2018].drop(['GB','W-L%','League','year'],axis=1)\n",
    "mlb_df['team'].replace(r'(.*)[\\*]|[\\(].*',r\"\\1\".strip(),regex=True, inplace=True)\n",
    "mlb_df[['team']]=mlb_df[['team']].apply(lambda x: x.str.strip())\n",
    "mlb_df['Area']=mlb_df['team'].str.split(\" \").str[-1:]\n",
    "mlb_df[\"Area\"]= mlb_df[\"Area\"].str[0]\n",
    "\n",
    "mlb_df['Area'] = mlb_df['Area'].apply(lambda x: get_area(x))\n",
    "#print(mlb_df)\n",
    "mlb_df.loc[0,'Area']='Boston'\n",
    "#print(mlb_df)\n",
    "mlb_df[['W','L']] = mlb_df[['W','L']].apply(pd.to_numeric, axis=1)\n",
    "mlb_df=mlb_df.groupby('Area').sum()\n",
    "mlb_df.eval(\"Ratio =W / (W + L)\", inplace=True)\n",
    "mlb_df.drop(['W','L'], axis=1,inplace=True)\n",
    "\n",
    "out_df = pd.merge(mlb_df, population, how=\"inner\", left_index=True, right_index=True)\n",
    "out_df['Population']=pd.to_numeric(out_df['Population'])\n",
    "#print(out_df['Population'])\n",
    "\n",
    "def mlb_correlation(): \n",
    "    # YOUR CODE HERE\n",
    "    \n",
    "    \n",
    "    population_by_region = out_df['Population'] # pass in metropolitan area population from cities\n",
    "    win_loss_by_region = out_df['Ratio'] # pass in win/loss ratio from mlb_df in the same order as cities[\"Metropolitan area\"]\n",
    "\n",
    "    assert len(population_by_region) == len(win_loss_by_region), \"Q3: Your lists must be the same length\"\n",
    "    assert len(population_by_region) == 26, \"Q3: There should be 26 teams being analysed for MLB\"\n",
    "\n",
    "    corre = stats.pearsonr(population_by_region, win_loss_by_region)\n",
    "    return(corre[0])\n",
    "    raise NotImplementedError()\n",
    "mlb_correlation()"
   ]
  },
  {
   "cell_type": "code",
   "execution_count": null,
   "metadata": {
    "deletable": false,
    "editable": false,
    "nbgrader": {
     "cell_type": "code",
     "checksum": "cda33b094ba19ccc37a481e0dd29e0bc",
     "grade": true,
     "grade_id": "cell-764d4476f425c5a2",
     "locked": true,
     "points": 20,
     "schema_version": 3,
     "solution": false
    }
   },
   "outputs": [],
   "source": []
  },
  {
   "cell_type": "markdown",
   "metadata": {
    "deletable": false,
    "editable": false,
    "nbgrader": {
     "cell_type": "markdown",
     "checksum": "6977a6da9ed6d8b7a0b7e37bbeda709b",
     "grade": false,
     "grade_id": "cell-793df6c04dfb126e",
     "locked": true,
     "schema_version": 3,
     "solution": false
    }
   },
   "source": [
    "## Question 4\n",
    "For this question, calculate the win/loss ratio's correlation with the population of the city it is in for the **NFL** using **2018** data."
   ]
  },
  {
   "cell_type": "code",
   "execution_count": 118,
   "metadata": {
    "deletable": false,
    "nbgrader": {
     "cell_type": "code",
     "checksum": "c4914ad1e119278ec2bd567c52640b66",
     "grade": false,
     "grade_id": "cell-8ccebc209aeec8d9",
     "locked": false,
     "schema_version": 3,
     "solution": true
    }
   },
   "outputs": [
    {
     "name": "stdout",
     "output_type": "stream",
     "text": [
      "     L   W                   team  year                    Area\n",
      "1    5  11   New England Patriots  2018                  Boston\n",
      "2    9   7         Miami Dolphins  2018   Miami–Fort Lauderdale\n",
      "3   10   6          Buffalo Bills  2018                 Buffalo\n",
      "4   12   4          New York Jets  2018           New York City\n",
      "6    6  10       Baltimore Ravens  2018               Baltimore\n",
      "7    6   9    Pittsburgh Steelers  2018              Pittsburgh\n",
      "8    8   7       Cleveland Browns  2018               Cleveland\n",
      "9   10   6     Cincinnati Bengals  2018              Cincinnati\n",
      "11   5  11         Houston Texans  2018                 Houston\n",
      "12   6  10    Indianapolis Colts+  2018            Indianapolis\n",
      "13   7   9       Tennessee Titans  2018               Nashville\n",
      "14  11   5   Jacksonville Jaguars  2018            Jacksonville\n",
      "16   4  12     Kansas City Chiefs  2018             Kansas City\n",
      "17   4  12  Los Angeles Chargers+  2018             Los Angeles\n",
      "18  10   6         Denver Broncos  2018                  Denver\n",
      "19  12   4        Oakland Raiders  2018  San Francisco Bay Area\n",
      "21   6  10         Dallas Cowboys  2018       Dallas–Fort Worth\n",
      "22   7   9   Philadelphia Eagles+  2018            Philadelphia\n",
      "23   9   7    Washington Redskins  2018        Washington, D.C.\n",
      "24  11   5        New York Giants  2018           New York City\n",
      "26   4  12          Chicago Bears  2018                 Chicago\n",
      "27   7   8      Minnesota Vikings  2018  Minneapolis–Saint Paul\n",
      "28   9   6      Green Bay Packers  2018               Green Bay\n",
      "29  10   6          Detroit Lions  2018                 Detroit\n",
      "31   3  13     New Orleans Saints  2018             New Orleans\n",
      "32   9   7      Carolina Panthers  2018               Charlotte\n",
      "33   9   7        Atlanta Falcons  2018                 Atlanta\n",
      "34  11   5   Tampa Bay Buccaneers  2018          Tampa Bay Area\n",
      "36   3  13       Los Angeles Rams  2018             Los Angeles\n",
      "37   6  10      Seattle Seahawks+  2018                 Seattle\n",
      "38  12   4    San Francisco 49ers  2018  San Francisco Bay Area\n",
      "39  13   3      Arizona Cardinals  2018                 Phoenix\n",
      "29\n"
     ]
    },
    {
     "data": {
      "text/plain": [
       "0.004922112149349407"
      ]
     },
     "execution_count": 118,
     "metadata": {},
     "output_type": "execute_result"
    }
   ],
   "source": [
    "import pandas as pd\n",
    "import numpy as np\n",
    "import scipy.stats as stats\n",
    "import re\n",
    "\n",
    "nfl_df=pd.read_csv(\"assets/nfl.csv\")\n",
    "cities=pd.read_html(\"assets/wikipedia_data.html\")[1]\n",
    "cities=cities.iloc[:-1,[0,3,5,6,7,8]]\n",
    "\n",
    "\n",
    "def get_area(team):\n",
    "        for each in list(nfl_cities.index.values):\n",
    "            if team in each:\n",
    "                return nfl_cities.at[each, 'Metropolitan area']\n",
    "\n",
    "population = cities[['Metropolitan area', 'Population (2016 est.)[8]']]\n",
    "population['Metropolitan area'] = population['Metropolitan area'].str.strip()\n",
    "population.rename(columns={'Population (2016 est.)[8]':'Population'},inplace=True)\n",
    "population = population.set_index('Metropolitan area')\n",
    "\n",
    "###mlb_cities = cities[['Metropolitan area', 'MLB']].set_index('MLB')\n",
    "cities['NFL'].replace(r'(.*)\\[.*\\].*|[-—]',r'\\1',regex=True, inplace=True)\n",
    "cities['NFL'].replace('—', np.nan, inplace=True)\n",
    "cities['NFL']=cities['NFL'].str.strip('—').str.strip(' ')\n",
    "cities['NFL'].replace('', np.nan, inplace=True)\n",
    "cities.dropna(inplace=True)\n",
    "\n",
    "###\n",
    "nfl_cities = cities[['Metropolitan area', 'NFL']].set_index('NFL')\n",
    "\n",
    "#print(mlb_cities)\n",
    "nfl_df=nfl_df[nfl_df['year']==2018].iloc[:,[1,11,13,14]]\n",
    "#print(nfl_df)\n",
    "nfl_df.drop([0, 5, 10,15,20, 25,30,35],axis=0,inplace=True)\n",
    "nfl_df['team'].replace(r'(.*)[\\*]|[\\(].*',r\"\\1\".strip(),regex=True, inplace=True)\n",
    "nfl_df[['team']]=nfl_df[['team']].apply(lambda x: x.str.strip())\n",
    "nfl_df['Area']=nfl_df['team'].str.split(\" \").str[-1:]\n",
    "nfl_df[\"Area\"]= nfl_df[\"Area\"].str[0]\n",
    "nfl_df['Area'] = nfl_df['Area'].apply(lambda x: get_area(x))\n",
    "nfl_df.loc[12,'Area']='Indianapolis'\n",
    "nfl_df.loc[17,'Area']='Los Angeles'\n",
    "nfl_df.loc[22,'Area']='Philadelphia'\n",
    "nfl_df.loc[37,'Area']='Seattle'\n",
    "print(nfl_df)\n",
    "#print(mlb_df)\n",
    "#nfl_df.loc[0,'Area']='Boston'\n",
    "#print(mlb_df)\n",
    "nfl_df[['W','L']] = nfl_df[['W','L']].apply(pd.to_numeric, axis=1)\n",
    "nfl_df=nfl_df.groupby('Area').sum()\n",
    "nfl_df.eval(\"Ratio =W / (W + L)\", inplace=True)\n",
    "nfl_df.drop(['W','L'], axis=1,inplace=True)\n",
    "#print(nfl_df)\n",
    "out_df = pd.merge(nfl_df, population, how=\"inner\", left_index=True, right_index=True)\n",
    "out_df['Population']=pd.to_numeric(out_df['Population'])\n",
    "print(len(out_df))\n",
    "def nfl_correlation(): \n",
    "    # YOUR CODE HERE\n",
    "    \n",
    "    \n",
    "    population_by_region = out_df['Population'] # pass in metropolitan area population from cities\n",
    "    win_loss_by_region = out_df['Ratio'] # pass in win/loss ratio from nfl_df in the same order as cities[\"Metropolitan area\"]\n",
    "\n",
    "    assert len(population_by_region) == len(win_loss_by_region), \"Q4: Your lists must be the same length\"\n",
    "    assert len(population_by_region) == 29, \"Q4: There should be 29 teams being analysed for NFL\"\n",
    "\n",
    "    corre = stats.pearsonr(population_by_region, win_loss_by_region)\n",
    "    return(corre[0])\n",
    "    raise NotImplementedError()\n",
    "nfl_correlation()"
   ]
  },
  {
   "cell_type": "code",
   "execution_count": null,
   "metadata": {
    "deletable": false,
    "editable": false,
    "nbgrader": {
     "cell_type": "code",
     "checksum": "e9415d6399aa49e3a1a60813afdefa3b",
     "grade": true,
     "grade_id": "cell-de7b148b9554dbda",
     "locked": true,
     "points": 20,
     "schema_version": 3,
     "solution": false
    }
   },
   "outputs": [],
   "source": []
  },
  {
   "cell_type": "markdown",
   "metadata": {
    "deletable": false,
    "editable": false,
    "nbgrader": {
     "cell_type": "markdown",
     "checksum": "b02d5cd3273f561e4ae939bb2a41740c",
     "grade": false,
     "grade_id": "cell-97b49d8639e908c4",
     "locked": true,
     "schema_version": 3,
     "solution": false
    }
   },
   "source": [
    "## Question 5\n",
    "In this question I would like you to explore the hypothesis that **given that an area has two sports teams in different sports, those teams will perform the same within their respective sports**. How I would like to see this explored is with a series of paired t-tests (so use [`ttest_rel`](https://docs.scipy.org/doc/scipy/reference/generated/scipy.stats.ttest_rel.html)) between all pairs of sports. Are there any sports where we can reject the null hypothesis? Again, average values where a sport has multiple teams in one region. Remember, you will only be including, for each sport, cities which have teams engaged in that sport, drop others as appropriate. This question is worth 20% of the grade for this assignment."
   ]
  },
  {
   "cell_type": "code",
   "execution_count": null,
   "metadata": {
    "deletable": false,
    "nbgrader": {
     "cell_type": "code",
     "checksum": "6d78c961eb66f8d8c81f06d33ae8f393",
     "grade": false,
     "grade_id": "cell-92f25f44b8d1179f",
     "locked": false,
     "schema_version": 3,
     "solution": true
    }
   },
   "outputs": [],
   "source": [
    "import pandas as pd\n",
    "import numpy as np\n",
    "import scipy.stats as stats\n",
    "import re\n",
    "\n",
    "mlb_df=pd.read_csv(\"assets/mlb.csv\")\n",
    "nhl_df=pd.read_csv(\"assets/nhl.csv\")\n",
    "nba_df=pd.read_csv(\"assets/nba.csv\")\n",
    "nfl_df=pd.read_csv(\"assets/nfl.csv\")\n",
    "cities=pd.read_html(\"assets/wikipedia_data.html\")[1]\n",
    "cities=cities.iloc[:-1,[0,3,5,6,7,8]]\n",
    "\n",
    "def sports_team_performance():\n",
    "    # YOUR CODE HERE\n",
    "    raise NotImplementedError()\n",
    "    \n",
    "    # Note: p_values is a full dataframe, so df.loc[\"NFL\",\"NBA\"] should be the same as df.loc[\"NBA\",\"NFL\"] and\n",
    "    # df.loc[\"NFL\",\"NFL\"] should return np.nan\n",
    "    sports = ['NFL', 'NBA', 'NHL', 'MLB']\n",
    "    p_values = pd.DataFrame({k:np.nan for k in sports}, index=sports)\n",
    "    \n",
    "    assert abs(p_values.loc[\"NBA\", \"NHL\"] - 0.02) <= 1e-2, \"The NBA-NHL p-value should be around 0.02\"\n",
    "    assert abs(p_values.loc[\"MLB\", \"NFL\"] - 0.80) <= 1e-2, \"The MLB-NFL p-value should be around 0.80\"\n",
    "    return p_values"
   ]
  },
  {
   "cell_type": "code",
   "execution_count": null,
   "metadata": {
    "deletable": false,
    "editable": false,
    "nbgrader": {
     "cell_type": "code",
     "checksum": "2a596ab421a45cc01168d10e8fbb8f89",
     "grade": true,
     "grade_id": "cell-fb4b9cb5ff4570a6",
     "locked": true,
     "points": 20,
     "schema_version": 3,
     "solution": false
    }
   },
   "outputs": [],
   "source": []
  }
 ],
 "metadata": {
  "coursera": {
   "schema_names": [
    "mooc_adswpy_v1_assignment4"
   ]
  },
  "kernelspec": {
   "display_name": "Python 3 (ipykernel)",
   "language": "python",
   "name": "python3"
  },
  "language_info": {
   "codemirror_mode": {
    "name": "ipython",
    "version": 3
   },
   "file_extension": ".py",
   "mimetype": "text/x-python",
   "name": "python",
   "nbconvert_exporter": "python",
   "pygments_lexer": "ipython3",
   "version": "3.8.10"
  }
 },
 "nbformat": 4,
 "nbformat_minor": 4
}
